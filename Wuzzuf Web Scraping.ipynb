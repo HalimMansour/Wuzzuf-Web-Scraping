{
 "cells": [
  {
   "cell_type": "markdown",
   "id": "e25b0403",
   "metadata": {},
   "source": [
    "# Wuzzuf Web Scraping\n",
    "\n",
    "\n",
    "\n"
   ]
  },
  {
   "cell_type": "markdown",
   "id": "e2d83a0c",
   "metadata": {},
   "source": [
    "### Import Libraries"
   ]
  },
  {
   "cell_type": "code",
   "execution_count": 228,
   "id": "1e14ea4c",
   "metadata": {},
   "outputs": [],
   "source": [
    "from bs4 import BeautifulSoup\n",
    "from itertools import zip_longest\n",
    "import requests\n",
    "import time\n",
    "import csv"
   ]
  },
  {
   "cell_type": "markdown",
   "id": "148cf5f7",
   "metadata": {},
   "source": [
    "### Connect to website and pull in data"
   ]
  },
  {
   "cell_type": "code",
   "execution_count": 229,
   "id": "3519c7f6",
   "metadata": {
    "scrolled": false
   },
   "outputs": [
    {
     "name": "stdout",
     "output_type": "stream",
     "text": [
      "page switched\n",
      "page switched\n",
      "pages ended\n"
     ]
    }
   ],
   "source": [
    "# Create empty lists and variables to receive text\n",
    "job_titles_list = []\n",
    "company_list = []\n",
    "location_list = []\n",
    "job_skills_list = []\n",
    "links = []\n",
    "responsibilities = []\n",
    "date = []\n",
    "page_num = 0\n",
    "\n",
    "while True:\n",
    "    # Send a GET request to the URL\n",
    "    response = requests.get(f\"https://wuzzuf.net/search/jobs/?a=navbl&q=Data%20Scientest&start={page_num}\")\n",
    "\n",
    "    # Save the content of the result page\n",
    "    result = response.content\n",
    "\n",
    "    # Create soup object to parse content \n",
    "    soup = BeautifulSoup(result,\"lxml\")\n",
    "    \n",
    "    page_limit = int(soup.find(\"strong\").text)\n",
    "\n",
    "    if(page_num > page_limit // 15):\n",
    "        print(\"pages ended\")\n",
    "        break\n",
    "    \n",
    "    # Extracting the Job details\n",
    "    job_titles = soup.find_all(\"h2\", class_=\"css-m604qf\")\n",
    "    company = soup.find_all(\"a\", class_=\"css-17s97q8\")\n",
    "    location = soup.find_all(\"span\", class_=\"css-5wys0k\")\n",
    "    job_skills = soup.find_all(\"div\", class_=\"css-y4udm8\")\n",
    "    posted_new = soup.find_all(\"div\", class_=\"css-4c4ojb\")\n",
    "    posted_old = soup.find_all(\"div\", class_=\"css-do6t5g\")\n",
    "\n",
    "    posted = [*posted_new , *posted_old ]\n",
    "\n",
    "\n",
    "    # Extract needed information into lists\n",
    "    for i in range(len(job_titles)):\n",
    "        job_titles_list.append(job_titles[i].text)\n",
    "        links.append(\"https://wuzzuf.net\"+ job_titles[i].find(\"a\").attrs['href'])\n",
    "        company_list.append(company[i].text)\n",
    "        location_list.append(location[i].text)\n",
    "        job_skills_list.append(job_skills[i].text)\n",
    "        date.append(posted[i].text)\n",
    "    page_num+=1\n",
    "    print(\"page switched\")\n",
    "\n",
    "\n",
    "# Process each link\n",
    "for link in links:\n",
    "    link = link.replace(\" \", \"\")\n",
    "    \n",
    "    \n"
   ]
  },
  {
   "cell_type": "markdown",
   "id": "7890ebff",
   "metadata": {},
   "source": [
    "### create the csv file"
   ]
  },
  {
   "cell_type": "code",
   "execution_count": 230,
   "id": "fb6c594d",
   "metadata": {},
   "outputs": [],
   "source": [
    "file_list = [job_titles_list, company_list,date,location_list, job_skills_list , links ,  ]\n",
    "\n",
    "# unpack file_list and make pairings using the 'zip_longest' function\n",
    "exported = zip_longest(*file_list)\n",
    "\n",
    "with open(\"D:\\Wuzzuf.csv\", \"w\") as myfile:\n",
    "    wr = csv.writer(myfile)\n",
    "    wr.writerow([\"Job Title\" , \"Company\" ,\"Date\", \"Location\" , \"Skills\" , \"Links\" , ])\n",
    "    wr.writerows(exported)\n"
   ]
  }
 ],
 "metadata": {
  "kernelspec": {
   "display_name": "Python 3 (ipykernel)",
   "language": "python",
   "name": "python3"
  },
  "language_info": {
   "codemirror_mode": {
    "name": "ipython",
    "version": 3
   },
   "file_extension": ".py",
   "mimetype": "text/x-python",
   "name": "python",
   "nbconvert_exporter": "python",
   "pygments_lexer": "ipython3",
   "version": "3.8.12"
  }
 },
 "nbformat": 4,
 "nbformat_minor": 5
}
